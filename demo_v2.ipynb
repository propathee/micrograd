{
 "cells": [
  {
   "cell_type": "markdown",
   "metadata": {},
   "source": [
    "###  MicroGrad demo"
   ]
  },
  {
   "cell_type": "code",
   "execution_count": 1,
   "metadata": {},
   "outputs": [],
   "source": [
    "import random\n",
    "import numpy as np\n",
    "import matplotlib.pyplot as plt\n",
    "%matplotlib inline"
   ]
  },
  {
   "cell_type": "code",
   "execution_count": 2,
   "metadata": {},
   "outputs": [],
   "source": [
    "from micrograd.engine import Value\n",
    "from micrograd.nn import Neuron, Layer, MLP"
   ]
  },
  {
   "cell_type": "code",
   "execution_count": 3,
   "metadata": {},
   "outputs": [],
   "source": [
    "np.random.seed(1337)\n",
    "random.seed(1337)"
   ]
  },
  {
   "cell_type": "code",
   "execution_count": 11,
   "metadata": {},
   "outputs": [
    {
     "name": "stdout",
     "output_type": "stream",
     "text": [
      "dataset X.shape: (100, 2), X.dtype: float64, X.data:\n",
      "[[ 1.03225485  0.30314179]\n",
      " [ 0.24031788 -0.02258841]\n",
      " [ 0.96250988  0.26911911]\n",
      " ...\n",
      " [ 0.0506929   0.43641413]\n",
      " [ 1.65040353 -0.33477239]\n",
      " [ 2.03736992  0.15660289]]\n",
      "dataset y.shape: (100,), y.dtype: int64, y.data:\n",
      "[0 1 0 ... 1 1 1]\n"
     ]
    },
    {
     "data": {
      "text/plain": [
       "<matplotlib.collections.PathCollection at 0x1f01dedb220>"
      ]
     },
     "execution_count": 11,
     "metadata": {},
     "output_type": "execute_result"
    },
    {
     "data": {
      "image/png": "[encoded data removed]",
      "text/plain": [
       "<Figure size 360x360 with 1 Axes>"
      ]
     },
     "metadata": {
      "needs_background": "light"
     },
     "output_type": "display_data"
    }
   ],
   "source": [
    "# make up a dataset\n",
    "\n",
    "from sklearn.datasets import make_moons, make_blobs\n",
    "X, y = make_moons(n_samples=100, noise=0.1)\n",
    "\n",
    "np.set_printoptions(threshold=50)\n",
    "print(f'dataset X.shape: {X.shape}, X.dtype: {X.dtype}, X.data:\\n{X}')\n",
    "print(f'dataset y.shape: {y.shape}, y.dtype: {y.dtype}, y.data:\\n{y}')\n",
    "\n",
    "y = y*2 - 1 # make y be -1 or 1\n",
    "# visualize in 2D\n",
    "plt.figure(figsize=(5,5))\n",
    "plt.scatter(X[:,0], X[:,1], c=y, s=20, cmap='jet')"
   ]
  },
  {
   "cell_type": "code",
   "execution_count": 5,
   "metadata": {},
   "outputs": [
    {
     "name": "stdout",
     "output_type": "stream",
     "text": [
      "MLP of 3 Layers: [\n",
      "  Layer[0]: Layer(in=2, out=16, activation=ReLU)\n",
      "  Layer[1]: Layer(in=16, out=16, activation=ReLU)\n",
      "  Layer[2]: Layer(in=16, out=1, activation=Linear)\n",
      "]\n",
      "number of parameters 337\n"
     ]
    }
   ],
   "source": [
    "# initialize a model\n",
    "model = MLP(nin=2, nouts=[16, 16, 1]) # 2-layer neural network\n",
    "print(model)\n",
    "print(\"number of parameters\", len(model.parameters()))"
   ]
  },
  {
   "cell_type": "code",
   "execution_count": 8,
   "metadata": {},
   "outputs": [
    {
     "name": "stdout",
     "output_type": "stream",
     "text": [
      "total_loss: 0.8958441028683222, acc: 50.0%\n"
     ]
    }
   ],
   "source": [
    "# loss function\n",
    "\n",
    "def loss(batch_size=None):\n",
    "    # inline DataLoader :)\n",
    "    if batch_size is None:\n",
    "        Xb, yb = X, y\n",
    "    else:\n",
    "        ri = np.random.permutation(X.shape[0])[:batch_size]\n",
    "        Xb, yb = X[ri], y[ri]\n",
    "        # print(f'ri: {ri}')\n",
    "    # print(f'Xb shape: {Xb.shape}, dtype: {Xb.dtype}, data:\\n{Xb}')\n",
    "    # print(f'yb shape: {yb.shape}, dtype: {yb.dtype}, data:\\n{yb}')\n",
    "\n",
    "    inputs = [list(map(Value, xrow)) for xrow in Xb]\n",
    "\n",
    "    # forward the model to get scores\n",
    "    scores = list(map(model, inputs))\n",
    "\n",
    "    # svm \"max-margin\" loss\n",
    "    losses = [(1 + -yi*scorei).relu() for yi, scorei in zip(yb, scores)]\n",
    "    data_loss = sum(losses) * (1.0 / len(losses))\n",
    "    # L2 regularization\n",
    "    alpha = 1e-4\n",
    "    reg_loss = alpha * sum((p*p for p in model.parameters()))\n",
    "    total_loss = data_loss + reg_loss\n",
    "\n",
    "    # also get accuracy\n",
    "    accuracy = [(yi > 0) == (scorei.data > 0) for yi, scorei in zip(yb, scores)]\n",
    "    return total_loss, sum(accuracy) / len(accuracy)\n",
    "\n",
    "total_loss, acc = loss()\n",
    "print(f'total_loss: {total_loss.data}, acc: {acc * 100}%')"
   ]
  },
  {
   "cell_type": "code",
   "execution_count": 9,
   "metadata": {},
   "outputs": [
    {
     "name": "stdout",
     "output_type": "stream",
     "text": [
      "step 0 loss 0.8958441028683222, accuracy 50.0%\n",
      "step 1 loss 1.723590533697202, accuracy 81.0%\n",
      "step 2 loss 0.7429006313851131, accuracy 77.0%\n",
      "step 3 loss 0.7705641260584198, accuracy 82.0%\n",
      "step 4 loss 0.3692793385976538, accuracy 84.0%\n",
      "step 5 loss 0.31354548191852205, accuracy 86.0%\n",
      "step 6 loss 0.2814234349772434, accuracy 89.0%\n",
      "step 7 loss 0.26888733313983904, accuracy 91.0%\n",
      "step 8 loss 0.2567147286057417, accuracy 91.0%\n",
      "step 9 loss 0.2704862551637922, accuracy 91.0%\n",
      "step 10 loss 0.2450702385365805, accuracy 91.0%\n",
      "step 11 loss 0.25099055297915035, accuracy 92.0%\n",
      "step 12 loss 0.2156095185192296, accuracy 91.0%\n",
      "step 13 loss 0.2309037844640272, accuracy 93.0%\n",
      "step 14 loss 0.2015215122789945, accuracy 92.0%\n",
      "step 15 loss 0.2257450627928222, accuracy 93.0%\n",
      "step 16 loss 0.19447987596204114, accuracy 92.0%\n",
      "step 17 loss 0.21089496199246355, accuracy 93.0%\n",
      "step 18 loss 0.1598307735630361, accuracy 94.0%\n",
      "step 19 loss 0.18453748746883916, accuracy 93.0%\n",
      "step 20 loss 0.18977522856087645, accuracy 91.0%\n",
      "step 21 loss 0.1907270404257964, accuracy 93.0%\n",
      "step 22 loss 0.11733695088756492, accuracy 97.0%\n",
      "step 23 loss 0.12173524408232451, accuracy 95.0%\n",
      "step 24 loss 0.12615712612770458, accuracy 95.0%\n",
      "step 25 loss 0.16049097780801663, accuracy 95.0%\n",
      "step 26 loss 0.18747197705245822, accuracy 92.0%\n",
      "step 27 loss 0.167418378910594, accuracy 95.0%\n",
      "step 28 loss 0.09586583491455397, accuracy 97.0%\n",
      "step 29 loss 0.08778783707420922, accuracy 96.0%\n",
      "step 30 loss 0.11731297569011846, accuracy 95.0%\n",
      "step 31 loss 0.09340146460619848, accuracy 97.0%\n",
      "step 32 loss 0.12454454903103447, accuracy 95.0%\n",
      "step 33 loss 0.07984002652777276, accuracy 97.0%\n",
      "step 34 loss 0.07727519232921669, accuracy 97.0%\n",
      "step 35 loss 0.07661250143094495, accuracy 98.0%\n",
      "step 36 loss 0.10610492379198357, accuracy 96.0%\n",
      "step 37 loss 0.0906280842926599, accuracy 99.0%\n",
      "step 38 loss 0.10671887043036923, accuracy 95.0%\n",
      "step 39 loss 0.052256599219758476, accuracy 98.0%\n",
      "step 40 loss 0.06016009895234471, accuracy 100.0%\n",
      "step 41 loss 0.08596724533333938, accuracy 96.0%\n",
      "step 42 loss 0.051121079431796015, accuracy 99.0%\n",
      "step 43 loss 0.05240142401642829, accuracy 97.0%\n",
      "step 44 loss 0.04530684179001575, accuracy 100.0%\n",
      "step 45 loss 0.07211073370655097, accuracy 97.0%\n",
      "step 46 loss 0.03334238651310237, accuracy 99.0%\n",
      "step 47 loss 0.03143222795751126, accuracy 100.0%\n",
      "step 48 loss 0.036585367471115134, accuracy 99.0%\n",
      "step 49 loss 0.04829139382390298, accuracy 99.0%\n",
      "step 50 loss 0.09875114765619629, accuracy 96.0%\n",
      "step 51 loss 0.05449063965875456, accuracy 99.0%\n",
      "step 52 loss 0.03392679435708306, accuracy 100.0%\n",
      "step 53 loss 0.05261517263568444, accuracy 97.0%\n",
      "step 54 loss 0.03250295251424928, accuracy 99.0%\n",
      "step 55 loss 0.028883273872078195, accuracy 100.0%\n",
      "step 56 loss 0.04139151104027244, accuracy 98.0%\n",
      "step 57 loss 0.018987407426128512, accuracy 100.0%\n",
      "step 58 loss 0.025238335238837444, accuracy 100.0%\n",
      "step 59 loss 0.020796565213418917, accuracy 100.0%\n",
      "step 60 loss 0.03259711157810233, accuracy 99.0%\n",
      "step 61 loss 0.01786335169348031, accuracy 100.0%\n",
      "step 62 loss 0.02300871783221172, accuracy 100.0%\n",
      "step 63 loss 0.022079325463581524, accuracy 100.0%\n",
      "step 64 loss 0.029432917853529708, accuracy 99.0%\n",
      "step 65 loss 0.016251514644091913, accuracy 100.0%\n",
      "step 66 loss 0.028468534483264515, accuracy 99.0%\n",
      "step 67 loss 0.013994365546208757, accuracy 100.0%\n",
      "step 68 loss 0.01555234484365138, accuracy 100.0%\n",
      "step 69 loss 0.033891199461601726, accuracy 99.0%\n",
      "step 70 loss 0.014229870065926941, accuracy 100.0%\n",
      "step 71 loss 0.013255281583285532, accuracy 100.0%\n",
      "step 72 loss 0.012300277590022092, accuracy 100.0%\n",
      "step 73 loss 0.012676052498355959, accuracy 100.0%\n",
      "step 74 loss 0.02059381195595479, accuracy 100.0%\n",
      "step 75 loss 0.01184539820536448, accuracy 100.0%\n",
      "step 76 loss 0.016012697472883048, accuracy 100.0%\n",
      "step 77 loss 0.02545836023922216, accuracy 100.0%\n",
      "step 78 loss 0.014382930289661935, accuracy 100.0%\n",
      "step 79 loss 0.011698962425818013, accuracy 100.0%\n",
      "step 80 loss 0.012318500800515756, accuracy 100.0%\n",
      "step 81 loss 0.014121117031464259, accuracy 100.0%\n",
      "step 82 loss 0.01166459196244625, accuracy 100.0%\n",
      "step 83 loss 0.011589314549188727, accuracy 100.0%\n",
      "step 84 loss 0.010990299347735226, accuracy 100.0%\n",
      "step 85 loss 0.01098922672069161, accuracy 100.0%\n",
      "step 86 loss 0.010988193757655071, accuracy 100.0%\n",
      "step 87 loss 0.010987200447388703, accuracy 100.0%\n",
      "step 88 loss 0.010986246779084923, accuracy 100.0%\n",
      "step 89 loss 0.010985332742365274, accuracy 100.0%\n",
      "step 90 loss 0.010984458327280176, accuracy 100.0%\n",
      "step 91 loss 0.010983623524308862, accuracy 100.0%\n",
      "step 92 loss 0.010982828324359071, accuracy 100.0%\n",
      "step 93 loss 0.010982072718767001, accuracy 100.0%\n",
      "step 94 loss 0.01098135669929704, accuracy 100.0%\n",
      "step 95 loss 0.010980680258141725, accuracy 100.0%\n",
      "step 96 loss 0.010980043387921502, accuracy 100.0%\n",
      "step 97 loss 0.010979446081684675, accuracy 100.0%\n",
      "step 98 loss 0.010978888332907227, accuracy 100.0%\n",
      "step 99 loss 0.010978370135492717, accuracy 100.0%\n"
     ]
    }
   ],
   "source": [
    "# optimization\n",
    "for k in range(100):\n",
    "\n",
    "    # forward\n",
    "    total_loss, acc = loss()\n",
    "\n",
    "    # backward\n",
    "    model.zero_grad()\n",
    "    total_loss.backward()\n",
    "\n",
    "    # update (sgd)\n",
    "    learning_rate = 1.0 - 0.9*k/100\n",
    "    for p in model.parameters():\n",
    "        p.data -= learning_rate * p.grad\n",
    "\n",
    "    if k % 1 == 0:\n",
    "        print(f\"step {k} loss {total_loss.data}, accuracy {acc*100}%\")\n"
   ]
  },
  {
   "cell_type": "code",
   "execution_count": 12,
   "metadata": {},
   "outputs": [
    {
     "data": {
      "text/plain": [
       "(-1.7222875713140986, 2.027712428685901)"
      ]
     },
     "execution_count": 12,
     "metadata": {},
     "output_type": "execute_result"
    },
    {
     "data": {
      "image/png": "[encoded data removed]",
      "text/plain": [
       "<Figure size 432x288 with 1 Axes>"
      ]
     },
     "metadata": {
      "needs_background": "light"
     },
     "output_type": "display_data"
    }
   ],
   "source": [
    "# visualize decision boundary\n",
    "\n",
    "h = 0.25\n",
    "x_min, x_max = X[:, 0].min() - 1, X[:, 0].max() + 1\n",
    "y_min, y_max = X[:, 1].min() - 1, X[:, 1].max() + 1\n",
    "xx, yy = np.meshgrid(np.arange(x_min, x_max, h),\n",
    "                     np.arange(y_min, y_max, h))\n",
    "Xmesh = np.c_[xx.ravel(), yy.ravel()]\n",
    "inputs = [list(map(Value, xrow)) for xrow in Xmesh]\n",
    "scores = list(map(model, inputs))\n",
    "Z = np.array([s.data > 0 for s in scores])\n",
    "Z = Z.reshape(xx.shape)\n",
    "\n",
    "fig = plt.figure()\n",
    "plt.contourf(xx, yy, Z, cmap=plt.cm.Spectral, alpha=0.8)\n",
    "plt.scatter(X[:, 0], X[:, 1], c=y, s=40, cmap=plt.cm.Spectral)\n",
    "plt.xlim(xx.min(), xx.max())\n",
    "plt.ylim(yy.min(), yy.max())\n"
   ]
  },
  {
   "cell_type": "code",
   "execution_count": null,
   "metadata": {},
   "outputs": [],
   "source": []
  }
 ],
 "metadata": {
  "kernelspec": {
   "display_name": "Python 3",
   "language": "python",
   "name": "python3"
  },
  "language_info": {
   "codemirror_mode": {
    "name": "ipython",
    "version": 3
   },
   "file_extension": ".py",
   "mimetype": "text/x-python",
   "name": "python",
   "nbconvert_exporter": "python",
   "pygments_lexer": "ipython3",
   "version": "3.9.12"
  }
 },
 "nbformat": 4,
 "nbformat_minor": 2
}
